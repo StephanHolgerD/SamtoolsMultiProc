{
 "cells": [
  {
   "cell_type": "code",
   "execution_count": 20,
   "metadata": {},
   "outputs": [],
   "source": [
    "from glob import glob\n",
    "import time\n",
    "import os\n",
    "import subprocess\n",
    "import socket\n"
   ]
  },
  {
   "cell_type": "code",
   "execution_count": null,
   "metadata": {},
   "outputs": [],
   "source": [
    "iostat  -p  -x"
   ]
  },
  {
   "cell_type": "code",
   "execution_count": 37,
   "metadata": {},
   "outputs": [],
   "source": [
    "bashCommand=f\"iostat -p -x \"\n",
    "process = subprocess.Popen(bashCommand.split(), stdout=subprocess.PIPE, stderr=subprocess.PIPE)\n",
    "output, error = process.communicate()\n",
    "error=error.decode(\"utf-8\")"
   ]
  },
  {
   "cell_type": "code",
   "execution_count": 39,
   "metadata": {},
   "outputs": [
    {
     "data": {
      "text/plain": [
       "'Linux 5.16.2-051602-generic (dell-hase) \\t05/30/2022 \\t_x86_64_\\t(48 CPU)\\n\\navg-cpu:  %user   %nice %system %iowait  %steal   %idle\\n           0.56    0.00    0.18    0.04    0.00   99.23\\n\\nDevice            r/s     rkB/s   rrqm/s  %rrqm r_await rareq-sz     w/s     wkB/s   wrqm/s  %wrqm w_await wareq-sz     d/s     dkB/s   drqm/s  %drqm d_await dareq-sz  aqu-sz  %util\\nloop0            0.00      0.00     0.00   0.00    0.00     1.21    0.00      0.00     0.00   0.00    0.00     0.00    0.00      0.00     0.00   0.00    0.00     0.00    0.00   0.00\\nloop1            0.00      0.00     0.00   0.00    0.07     7.67    0.00      0.00     0.00   0.00    0.00     0.00    0.00      0.00     0.00   0.00    0.00     0.00    0.00   0.00\\nloop2            0.00      0.00     0.00   0.00    0.13    23.73    0.00      0.00     0.00   0.00    0.00     0.00    0.00      0.00     0.00   0.00    0.00     0.00    0.00   0.00\\nloop3            0.00      0.00     0.00   0.00    0.27    16.50    0.00      0.00     0.00   0.00    0.00     0.00    0.00      0.00     0.00   0.00    0.00     0.00    0.00   0.00\\nloop4            0.00      0.00     0.00   0.00    0.16     7.26    0.00      0.00     0.00   0.00    0.00     0.00    0.00      0.00     0.00   0.00    0.00     0.00    0.00   0.00\\nloop5            0.00      0.00     0.00   0.00    0.38    19.49    0.00      0.00     0.00   0.00    0.00     0.00    0.00      0.00     0.00   0.00    0.00     0.00    0.00   0.00\\nloop6            0.00      0.00     0.00   0.00    0.23     8.09    0.00      0.00     0.00   0.00    0.00     0.00    0.00      0.00     0.00   0.00    0.00     0.00    0.00   0.00\\nloop7            0.00      0.00     0.00   0.00    0.16     7.08    0.00      0.00     0.00   0.00    0.00     0.00    0.00      0.00     0.00   0.00    0.00     0.00    0.00   0.00\\nnvme0n1          1.92    141.79     0.37  16.13    0.39    73.78    3.59    233.85     3.69  50.67    2.87    65.10    0.07    386.37     0.00   0.00    1.20  5279.32    0.01   0.30\\nnvme0n1p1        0.00      0.03     0.00  58.34    0.23    36.44    0.00      0.00     0.00   0.00    0.50     0.50    0.00      0.97     0.00   0.00    3.11 169012.00    0.00   0.00\\nnvme0n1p2        1.92    141.73     0.37  16.10    0.39    73.84    3.59    233.85     3.69  50.67    2.87    65.10    0.07    385.40     0.00   0.00    1.20  5266.44    0.01   0.30\\nscd0             0.00      0.00     0.00   0.00    0.91     0.23    0.00      0.00     0.00   0.00    0.00     0.00    0.00      0.00     0.00   0.00    0.00     0.00    0.00   0.00\\nsda             13.40   2408.94     0.15   1.12    0.90   179.77    1.58    277.53     0.12   6.78   81.64   175.12    0.00      0.00     0.00   0.00    0.00     0.00    0.14   2.13\\nloop8            0.00      0.00     0.00   0.00    0.04     3.01    0.00      0.00     0.00   0.00    0.00     0.00    0.00      0.00     0.00   0.00    0.00     0.00    0.00   0.00\\nloop9            0.00      0.00     0.00   0.00    0.40    18.53    0.00      0.00     0.00   0.00    0.00     0.00    0.00      0.00     0.00   0.00    0.00     0.00    0.00   0.00\\nloop11           0.00      0.00     0.00   0.00    0.43    16.78    0.00      0.00     0.00   0.00    0.00     0.00    0.00      0.00     0.00   0.00    0.00     0.00    0.00   0.00\\nloop12           0.00      0.00     0.00   0.00    0.34    12.49    0.00      0.00     0.00   0.00    0.00     0.00    0.00      0.00     0.00   0.00    0.00     0.00    0.00   0.00\\nloop13           0.00      0.00     0.00   0.00    0.36    33.38    0.00      0.00     0.00   0.00    0.00     0.00    0.00      0.00     0.00   0.00    0.00     0.00    0.00   0.00\\nloop10           0.00      0.00     0.00   0.00    0.53    19.42    0.00      0.00     0.00   0.00    0.00     0.00    0.00      0.00     0.00   0.00    0.00     0.00    0.00   0.00\\nloop17           0.00      0.00     0.00   0.00    0.38    16.35    0.00      0.00     0.00   0.00    0.00     0.00    0.00      0.00     0.00   0.00    0.00     0.00    0.00   0.00\\nloop16           0.00      0.00     0.00   0.00    0.24    11.70    0.00      0.00     0.00   0.00    0.00     0.00    0.00      0.00     0.00   0.00    0.00     0.00    0.00   0.00\\nloop15           0.00      0.02     0.00   0.00   23.04    25.45    0.00      0.00     0.00   0.00    0.00     0.00    0.00      0.00     0.00   0.00    0.00     0.00    0.00   0.00\\nloop14           0.00      0.00     0.00   0.00    0.51    18.56    0.00      0.00     0.00   0.00    0.00     0.00    0.00      0.00     0.00   0.00    0.00     0.00    0.00   0.00\\nloop20           0.00      0.00     0.00   0.00    0.52    20.02    0.00      0.00     0.00   0.00    0.00     0.00    0.00      0.00     0.00   0.00    0.00     0.00    0.00   0.00\\nloop18           0.00      0.07     0.00   0.00   39.41    26.18    0.00      0.00     0.00   0.00    0.00     0.00    0.00      0.00     0.00   0.00    0.00     0.00    0.00   0.01\\nloop19           0.00      0.17     0.00   0.00    0.09    35.67    0.00      0.00     0.00   0.00    0.00     0.00    0.00      0.00     0.00   0.00    0.00     0.00    0.00   0.00\\nloop23           0.00      0.00     0.00   0.00    0.08    11.14    0.00      0.00     0.00   0.00    0.00     0.00    0.00      0.00     0.00   0.00    0.00     0.00    0.00   0.00\\nloop21           0.00      0.00     0.00   0.00    0.26    19.76    0.00      0.00     0.00   0.00    0.00     0.00    0.00      0.00     0.00   0.00    0.00     0.00    0.00   0.00\\nloop22           0.00      0.04     0.00   0.00    3.47    14.70    0.00      0.00     0.00   0.00    0.00     0.00    0.00      0.00     0.00   0.00    0.00     0.00    0.00   0.00\\nloop24           0.00      0.00     0.00   0.00    0.19     8.09    0.00      0.00     0.00   0.00    0.00     0.00    0.00      0.00     0.00   0.00    0.00     0.00    0.00   0.00\\nloop25           0.00      0.07     0.00   0.00   81.80    36.55    0.00      0.00     0.00   0.00    0.00     0.00    0.00      0.00     0.00   0.00    0.00     0.00    0.00   0.01\\nloop26           0.01      0.21     0.00   0.00   23.04    36.56    0.00      0.00     0.00   0.00    0.00     0.00    0.00      0.00     0.00   0.00    0.00     0.00    0.00   0.01\\nloop27           0.00      0.00     0.00   0.00    0.35    16.32    0.00      0.00     0.00   0.00    0.00     0.00    0.00      0.00     0.00   0.00    0.00     0.00    0.00   0.00\\nsdb              0.00      0.20     0.00   0.13    7.94    57.49    0.00      0.00     0.00   0.00    0.00     0.00    0.00      0.00     0.00   0.00    0.00     0.00    0.00   0.00\\nsdc              0.00      0.25     0.00   0.13    7.72    65.10    0.00      0.00     0.00   0.00    0.00     0.00    0.00      0.00     0.00   0.00    0.00     0.00    0.00   0.00\\nloop28           0.00      0.00     0.00   0.00    0.03    11.75    0.00      0.00     0.00   0.00    0.00     0.00    0.00      0.00     0.00   0.00    0.00     0.00    0.00   0.00\\nloop29           0.00      0.00     0.00   0.00    0.00     1.27    0.00      0.00     0.00   0.00    0.00     0.00    0.00      0.00     0.00   0.00    0.00     0.00    0.00   0.00\\n\\n\\n'"
      ]
     },
     "execution_count": 39,
     "metadata": {},
     "output_type": "execute_result"
    }
   ],
   "source": [
    "output.decode('utf-8')"
   ]
  },
  {
   "cell_type": "code",
   "execution_count": 43,
   "metadata": {},
   "outputs": [
    {
     "data": {
      "text/plain": [
       "'05_30_22_2022_13_33_03'"
      ]
     },
     "execution_count": 43,
     "metadata": {},
     "output_type": "execute_result"
    }
   ],
   "source": [
    "time.strftime(\"%D_%Y_%H_%M_%S\", time.localtime()).replace('/','_')"
   ]
  },
  {
   "cell_type": "code",
   "execution_count": 35,
   "metadata": {},
   "outputs": [],
   "source": [
    "from glob import glob\n",
    "import time\n",
    "import os\n",
    "import subprocess\n",
    "import sys\n",
    "import multiprocessing as mp\n",
    "from threading import Thread\n",
    "import socket\n",
    "\n",
    "cores = int(sys.argv[2])\n",
    "path = sys.argv[1]\n",
    "out=sys.argv[3]\n",
    "outF=out.split('.')[0]\n",
    "if not os.path.exists(outF):\n",
    "    os.makedirs(outF)\n",
    "#cores = 1\n",
    "#path = '/home/stephan/Documents/ITD_693_bam2Cram/00_bams/00_softLinkRaid/'\n",
    "#out='test'\n",
    "\n",
    "\n",
    "\n",
    "AllFiles=[[x] for x in glob(path+'/*bam')]\n",
    "\n",
    "stop_threads=False\n",
    "\n",
    "\n",
    "def GetIOusage(outFolder):\n",
    "    while True:\n",
    "        global stop_threads\n",
    "        hostname=socket.gethostname()    \n",
    "        logF=time.strftime(\"%D_%Y_%H_%M_%S\", time.localtime()).replace('/','_')\n",
    "        logF=f'{outFolder}/{hostname}_{logF}_iostat.log'\n",
    "        bashCommand=f\"iostat -x \"\n",
    "        process = subprocess.Popen(bashCommand.split(), stdout=subprocess.PIPE, stderr=subprocess.PIPE)\n",
    "        output, error = process.communicate()\n",
    "        error=error.decode(\"utf-8\")\n",
    "        output=output.decode(\"utf-8\")\n",
    "        with open(logF,'w') as o:\n",
    "            o.write(output)\n",
    "        time.sleep(10)\n",
    "        if stop_threads:\n",
    "            break\n",
    "\n",
    "def ViewBam(file=None, threads=1):\n",
    "    st=time.time()\n",
    "    fileSize=os.path.getsize(file)*(9.31*(10**-10))\n",
    "    start=time.strftime(\"%D-%H:%M:%S\", time.localtime())\n",
    "    bashCommand=f\"samtools view -@ {threads} {file}\"\n",
    "    #bashCommand=f\"ls {file}\"\n",
    "    process = subprocess.Popen(bashCommand.split(), stdout=subprocess.DEVNULL, stderr=subprocess.PIPE)\n",
    "    output, error = process.communicate()\n",
    "    error=error.decode(\"utf-8\")\n",
    "    end=time.strftime(\"%D-%H:%M:%S\", time.localtime())\n",
    "    et=time.time()-st\n",
    "    return [start,end,et,file,fileSize]\n",
    "\n",
    "\n",
    "\n",
    "t = Thread(target = GetIOusage, args=(outF,))\n",
    "\n",
    "t.start()\n",
    "with mp.Pool(cores) as pool:\n",
    "    x= pool.starmap(ViewBam,AllFiles)\n",
    "\n",
    "\n",
    "    \n",
    "with open(out,'w') as o:\n",
    "    o.write(f'start\\tend\\tduration\\tfile\\tfilesize\\n')\n",
    "    for xx in x:\n",
    "        o.write(f'{xx[0]}\\t{xx[1]}\\t{xx[2]}\\t{xx[3]}\\t{xx[4]}\\n')\n",
    "        \n",
    "stop_threads=True\n",
    "\n",
    "t.join()\n",
    "\n",
    "    "
   ]
  },
  {
   "cell_type": "code",
   "execution_count": 45,
   "metadata": {},
   "outputs": [
    {
     "data": {
      "text/plain": [
       "'sdf/dkmf'"
      ]
     },
     "execution_count": 45,
     "metadata": {},
     "output_type": "execute_result"
    }
   ],
   "source": [
    "'/'.join('sdf/dkmf/ds'.split('/')[:-1])"
   ]
  },
  {
   "cell_type": "code",
   "execution_count": null,
   "metadata": {},
   "outputs": [],
   "source": [
    "from glob import glob\n",
    "import time\n",
    "import os\n",
    "import subprocess\n",
    "import sys\n",
    "import multiprocessing as mp\n",
    "from threading import Thread\n",
    "import socket\n",
    "\n",
    "cores = int(sys.argv[2])\n",
    "path = sys.argv[1]\n",
    "out=sys.argv[3]\n",
    "ref=sys.argv[4]\n",
    "outF='/'.join(out.split('/')[:-1])\n",
    "AllFiles=[[x] for x in glob(path+'/*bam')]\n",
    "stop_threads=False\n",
    "\n",
    "\n",
    "\n",
    "\n",
    "\n",
    "def GetIOusage(outFolder):\n",
    "    if not os.path.exists(outFolder):\n",
    "        os.makedirs(outFolder)\n",
    "    while True:\n",
    "        global stop_threads\n",
    "        hostname=socket.gethostname()    \n",
    "        logF=time.strftime(\"%D_%Y_%H_%M_%S\", time.localtime()).replace('/','_')\n",
    "        logF=f'{outFolder}/{hostname}_{logF}_iostat.log'\n",
    "        bashCommand=f\"iostat -x \"\n",
    "        process = subprocess.Popen(bashCommand.split(), stdout=subprocess.PIPE, stderr=subprocess.PIPE)\n",
    "        output, error = process.communicate()\n",
    "        error=error.decode(\"utf-8\")\n",
    "        output=output.decode(\"utf-8\")\n",
    "        with open(logF,'w') as o:\n",
    "            o.write(output)\n",
    "        time.sleep(10)\n",
    "        if stop_threads:\n",
    "            break\n",
    "\n",
    "def BamCram(file=None, outFile=None, threads=1, ref=None):\n",
    "    if ref==None or outFile==None or file==None:\n",
    "        return ['','','','','missing input']\n",
    "    st=time.time()\n",
    "    fileSizeBam=os.path.getsize(file)*(9.31*(10**-10))\n",
    "    start=time.strftime(\"%D-%H:%M:%S\", time.localtime())\n",
    "    #bashCommand=f\"samtools view -@ {threads} {file}\"\n",
    "    #bashCommand=f\"ls {file}\"\n",
    "    bashCommand=f\"samtools view -@ {threads} -C -o {outFile} -T {ref} {file}\"\n",
    "    \n",
    "    process = subprocess.Popen(bashCommand.split(), stdout=subprocess.DEVNULL, stderr=subprocess.PIPE)\n",
    "    output, error = process.communicate()\n",
    "    error=error.decode(\"utf-8\")\n",
    "    fileSizeCram=os.path.getsize(outFile)*(9.31*(10**-10))\n",
    "    \n",
    "    end=time.strftime(\"%D-%H:%M:%S\", time.localtime())\n",
    "    et=time.time()-st\n",
    "    return [start,end,et,file,fileSizeBam, fileSizeCram]\n",
    "\n",
    "\n",
    "\n",
    "if not os.path.exists(outF):\n",
    "    os.makedirs(outF)\n",
    "\n",
    "t = Thread(target = GetIOusage, args=(f'{outF}/IostatLog',))\n",
    "\n",
    "t.start()\n",
    "with mp.Pool(cores) as pool:\n",
    "    x= pool.starmap(BamCram,AllFiles)\n",
    "\n",
    "    \n",
    "with open(out,'w') as o:\n",
    "    o.write(f'start\\tend\\tduration\\tfile\\tfilesizeBam\\tfilesizeCram\\n')\n",
    "    for xx in x:\n",
    "        o.write(f'{xx[0]}\\t{xx[1]}\\t{xx[2]}\\t{xx[3]}\\t{xx[4]}\\n')\n",
    "        \n",
    "stop_threads=True\n",
    "\n",
    "t.join()\n",
    "\n",
    "    "
   ]
  },
  {
   "cell_type": "code",
   "execution_count": 31,
   "metadata": {},
   "outputs": [
    {
     "data": {
      "text/plain": [
       "25"
      ]
     },
     "execution_count": 31,
     "metadata": {},
     "output_type": "execute_result"
    }
   ],
   "source": [
    "len(x)"
   ]
  },
  {
   "cell_type": "code",
   "execution_count": 23,
   "metadata": {},
   "outputs": [
    {
     "data": {
      "text/plain": [
       "['05/30/22-11:01:33', '05/30/22-11:03:42', 6.836058326139001]"
      ]
     },
     "execution_count": 23,
     "metadata": {},
     "output_type": "execute_result"
    }
   ],
   "source": [
    "ViewBam('../00_bams/00_softLinkRaid/3001213US_S38-ready.bam')"
   ]
  },
  {
   "cell_type": "code",
   "execution_count": null,
   "metadata": {},
   "outputs": [],
   "source": [
    "import subprocess\n",
    "import os\n",
    "from glob import glob\n",
    "import sys\n",
    "import multiprocessing as mp\n",
    "import time\n",
    "import itertools\n",
    "import argparse\n",
    "import pandas as pd\n",
    "from tqdm import tqdm\n",
    "df=pd.read_csv('StillCorrupt.tsv',sep='\\t',names=['files','error','format'])\n",
    "\n",
    "\n",
    "#print(df)\n",
    "#df['files']=df['files'].str.split(':',expand=True)[1]\n",
    "\n",
    "\n",
    "#df['file'][10000]\n",
    "#l=[]\n",
    "#for x in glob('tmpDir/*'):\n",
    "#    with open(x) as f:\n",
    "#        xx=f.read()\n",
    "#        if 'repaired' in xx:\n",
    "#            l.append(x.split('/')[1].replace('.tsv',''))\n",
    "\n",
    "#l=[x.split('/')[1].replace('.tsv','') for x in glob('tmpDir/*')]\n",
    "\n",
    "\n",
    "\n",
    "df['i']=df.index.astype(str)\n",
    "#df=df[~df['i'].isin(l)]\n",
    "outfolder=sys.argv[1]\n",
    "\n",
    "def CheckForIntact(file=None,n=None):\n",
    "    counter=0\n",
    "    if 'raw_data' in file:\n",
    "        loc=['/mnt/a1ba/raw_data/',\n",
    "            '/mnt/a1bb/raw_data/',\n",
    "            '/mnt/a2ba/raw_data/',\n",
    "            '/mnt/a2bb/raw_data/',\n",
    "            '/mnt/a3ba/raw_data/',\n",
    "            '/mnt/a3bb/raw_data/',\n",
    "            '/mnt/a4ba/raw_data/',\n",
    "            '/mnt/a4bb/raw_data/',\n",
    "            '/mnt/a1ba/restored/',\n",
    "            '/mnt/a1bb/restored/',\n",
    "            '/mnt/a2ba/restored/',\n",
    "            '/mnt/a2bb/restored/',\n",
    "            '/mnt/a3ba/restored/',\n",
    "            '/mnt/a3bb/restored/',\n",
    "            '/mnt/a4ba/restored/',\n",
    "            '/mnt/a4bb/restored/',\n",
    "                '/mnt/arch_backup/raw_data/']\n",
    "        f=file.split('raw_data')[1]\n",
    "\n",
    "    else:\n",
    "        loc=['/mnt/a1ba/',\n",
    "            '/mnt/a1bb/',\n",
    "            '/mnt/a2ba/',\n",
    "            '/mnt/a2bb/',\n",
    "            '/mnt/a3ba/',\n",
    "            '/mnt/a3bb/',\n",
    "            '/mnt/a4ba/',\n",
    "            '/mnt/a4bb/',\n",
    "            '/mnt/arch_backup/']\n",
    "        f=file.split('Archiv_old_g27arcst')[1]\n",
    "\n",
    "        #RUN_ID=self.RUN.rstrip('/').split('/')[-1]\n",
    "    for BackUpCopy in loc:\n",
    "            #print(glob(BackUpCopy+'/*'))\n",
    "        try:\n",
    "            BackUpCopyList=glob(BackUpCopy+f)\n",
    "        except IndexError:\n",
    "            pass\n",
    "        if BackUpCopyList!=[]:\n",
    "            bashCommand=\"zcat \" + BackUpCopyList[0]\n",
    "            process = subprocess.Popen(bashCommand.split(), stdout=subprocess.DEVNULL, stderr=subprocess.PIPE)\n",
    "            output, error = process.communicate()\n",
    "            error=error.decode(\"utf-8\")\n",
    "            if error == \"\":\n",
    "                bashCommand='rsync -I -a {} {}'.format(BackUpCopyList[0],file)\n",
    "                process = subprocess.Popen(bashCommand.split(), stdout=subprocess.PIPE, stderr=subprocess.PIPE)\n",
    "                output, error = process.communicate()\n",
    "                error=error.decode(\"utf-8\")\n",
    "                return [n,file,BackUpCopyList[0],'repaired']\n",
    "\n",
    "            else:\n",
    "                continue\n",
    "    return [n,file,'no intact','broken']\n",
    "\n",
    "\n",
    "t=[[x,y] for x,y in zip(df['files'],df['i'])]\n",
    "\n",
    "multilist=[]\n",
    "\n",
    "for n in t:\n",
    "    multilist.append(n)\n",
    "pbar = tqdm(total=len(multilist))\n",
    "def update(a):\n",
    "    o=open('{}/{}.tsv'.format(outfolder,str(a[0])),'w')\n",
    "    o.write(str(a[0])+'\\t')\n",
    "    o.write(str(a[1])+'\\t')\n",
    "    o.write(str(a[2])+'\\t')\n",
    "    o.write(str(a[3])+'\\n')\n",
    "    o.close()\n",
    "    pbar.update()\n",
    "pool = mp.Pool(processes=24)\n",
    "for i in range(pbar.total):\n",
    "    ii=multilist[i]\n",
    "    pool.apply_async(CheckForIntact,kwds={'file':ii[0],'n':ii[1]},callback=update)\n",
    "pool.close()\n",
    "pool.join()\n"
   ]
  }
 ],
 "metadata": {
  "kernelspec": {
   "display_name": "Python 3",
   "language": "python",
   "name": "python3"
  },
  "language_info": {
   "codemirror_mode": {
    "name": "ipython",
    "version": 3
   },
   "file_extension": ".py",
   "mimetype": "text/x-python",
   "name": "python",
   "nbconvert_exporter": "python",
   "pygments_lexer": "ipython3",
   "version": "3.8.5"
  }
 },
 "nbformat": 4,
 "nbformat_minor": 4
}
